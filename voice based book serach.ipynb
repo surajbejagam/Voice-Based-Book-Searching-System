{
 "cells": [
  {
   "cell_type": "code",
   "execution_count": 1,
   "id": "9dacbd8f",
   "metadata": {},
   "outputs": [
    {
     "ename": "ModuleNotFoundError",
     "evalue": "No module named 'speech_recognition'",
     "output_type": "error",
     "traceback": [
      "\u001b[1;31m---------------------------------------------------------------------------\u001b[0m",
      "\u001b[1;31mModuleNotFoundError\u001b[0m                       Traceback (most recent call last)",
      "Cell \u001b[1;32mIn[1], line 1\u001b[0m\n\u001b[1;32m----> 1\u001b[0m \u001b[38;5;28;01mimport\u001b[39;00m \u001b[38;5;21;01mspeech_recognition\u001b[39;00m \u001b[38;5;28;01mas\u001b[39;00m \u001b[38;5;21;01msr\u001b[39;00m \n\u001b[0;32m      2\u001b[0m \u001b[38;5;28;01mimport\u001b[39;00m \u001b[38;5;21;01mpandas\u001b[39;00m \u001b[38;5;28;01mas\u001b[39;00m \u001b[38;5;21;01mpd\u001b[39;00m \n\u001b[0;32m      3\u001b[0m \u001b[38;5;28;01mimport\u001b[39;00m \u001b[38;5;21;01mnumpy\u001b[39;00m \u001b[38;5;28;01mas\u001b[39;00m \u001b[38;5;21;01mnp\u001b[39;00m \n",
      "\u001b[1;31mModuleNotFoundError\u001b[0m: No module named 'speech_recognition'"
     ]
    }
   ],
   "source": [
    "import speech_recognition as sr \n",
    "import pandas as pd \n",
    "import numpy as np \n",
    "from openpyxl import Workbook \n",
    "from xlutils.copy import copy \n",
    "from xlrd import open_workbook \n",
    "import xlrd\n",
    "from gtts import gTTS\n",
    "import win32com.client\n",
    "#import xlrd\n",
    "xlrd.xlsx.ensure_elementtree_imported(False, None)\n",
    "xlrd.xlsx.Element_has_iter = True\n",
    "# get audio from the microphone \n",
    "r = sr.Recognizer()\n",
    "with sr.Microphone() as source: \n",
    "\t print(\"Speak something:\") \n",
    "\t audio = r.listen(source) \n",
    "\t try: \n",
    "\t\t f = open(\"speechtext.txt\", \"w\") \n",
    "\t\t f.write(r.recognize_google(audio)) \n",
    "\t except sr.UnknownValueError: \n",
    "\t\t\t print(\"Could not understand audio\") \n",
    "\t except sr.RequestError as e: \n",
    "\t\t\t\t print(\"Could not request results; {0}\".format(e)) \n",
    "# Convert Speech to Text \n",
    "Mssg = r.recognize_google(audio) \n",
    "print(\"You said \" + Mssg)\n",
    "book = open_workbook(r\"C:\\Users\\ssp1_\\OneDrive\\Desktop\\DESKTOP\\destop\\NAC DMT\\dmt projects\\books.xlsx\")\n",
    "for sheet in book.sheets(): \n",
    "\t\t\tfor rowidx in range(sheet.nrows): \n",
    "\t\t\t\trow = sheet.row(rowidx) \n",
    "\t\t\t\tfor colidx, cell in enumerate(row): \n",
    "\t\t\t\t\tif cell.value == Mssg : \n",
    "\t\t\t\t\t\tprint(sheet.name) \n",
    "\t\t\t\t\t\tprint(colidx) \n",
    "\t\t\t\t\t\tprint(rowidx) \n",
    "\t\t\t\t\t\ti=rowidx \n",
    "\t\t\t\t\t\tbook = xlrd.open_workbook(r'C:\\Users\\ssp1_\\Downloads\\books.xls') \n",
    "\t\t\t\t\t\tfirst_sheet = book.sheet_by_index(0) \n",
    "\t\t\t\t\t\tprint(\"The searched book was found\") \n",
    "\t\t\t\t\t\tprint(\"The details are :\") \n",
    "\t\t\t\t\t\tprint(\"Book Id Title Author Description Type of book cost rating \") \n",
    "\t\t\t\t\t\tprint(first_sheet.row_values(i))\n",
    "\t\t\t\t\t\tspeaker = win32com.client.Dispatch(\"SAPI.SpVoice\") \n",
    "  \n",
    "\t\t\t\t\t\twhile 1: \n",
    "\t\t\t\t\t\t\t\ts = first_sheet.row_values(i) \n",
    "\t\t\t\t\t\t\t\tspeaker.Speak(s) \n",
    "\t\t\t\t\t\t\t\tbreak"
   ]
  },
  {
   "cell_type": "code",
   "execution_count": null,
   "id": "9d5096ea",
   "metadata": {},
   "outputs": [],
   "source": [
    "pip uninstall xlrd"
   ]
  },
  {
   "cell_type": "code",
   "execution_count": null,
   "id": "c61b0765",
   "metadata": {},
   "outputs": [],
   "source": [
    "pip install xlrd==1.2.0"
   ]
  },
  {
   "cell_type": "code",
   "execution_count": null,
   "id": "95018bd5",
   "metadata": {},
   "outputs": [],
   "source": [
    "pip install SpeechRecognition"
   ]
  },
  {
   "cell_type": "code",
   "execution_count": null,
   "id": "5dd0e6b9",
   "metadata": {},
   "outputs": [],
   "source": [
    "pip install path\\to\\downloaded\\file.whl"
   ]
  },
  {
   "cell_type": "code",
   "execution_count": null,
   "id": "6283d9b8",
   "metadata": {},
   "outputs": [],
   "source": []
  }
 ],
 "metadata": {
  "kernelspec": {
   "display_name": "Python 3 (ipykernel)",
   "language": "python",
   "name": "python3"
  },
  "language_info": {
   "codemirror_mode": {
    "name": "ipython",
    "version": 3
   },
   "file_extension": ".py",
   "mimetype": "text/x-python",
   "name": "python",
   "nbconvert_exporter": "python",
   "pygments_lexer": "ipython3",
   "version": "3.11.3"
  }
 },
 "nbformat": 4,
 "nbformat_minor": 5
}
